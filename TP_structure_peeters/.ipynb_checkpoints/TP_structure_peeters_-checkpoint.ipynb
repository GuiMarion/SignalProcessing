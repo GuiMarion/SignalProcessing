{
 "cells": [
  {
   "cell_type": "markdown",
   "metadata": {},
   "source": [
    "# Audio Summary Generation: Step by Step \n",
    "## Geoffroy Peeters - 2018/10\n",
    "\n",
    "# Introduction\n",
    "\n",
    "The goal is to create a system that allows the automatic generation of an audio summary from the analysis of the audio signal.\n",
    "- the input to the system is the audio file (.wav) of a music track\n",
    "- the output is another audio file (.wav) that summarizes the content of the input in 20 seconds.\n",
    "\n",
    "The method we will use is the \"summary score\" proposed by [Cooper and Foote, ISMIR 2002].\n",
    "The difference with the original paper (which uses MFCCs as audio observation) is the use of Chroma as observation.\n",
    "\n",
    "In practice, you are asked to fill in the part between ### START CODE HERE ### and ### END CODE HERE ### to complete the system.\n",
    "\n",
    "The system is splitted into the following steps:\n",
    "\n",
    "- 1) read an audio file\n",
    "- 2) compute observations from the audio file at each time (a.k.a. audio features or hand-crafted features). We will use the Chroma as audio features.\n",
    "    - 2a) we first need to compute the Short-Time-Fourier-Transform (spectrogram)\n",
    "    - 2b) create a set of filters that allows to map the STFT to the Chroma space\n",
    "    - 2c) use these filters to map the STFT to the Chroma space\n",
    "- 3) compute the Self-Similarity-Matrix of the Chromagram\n",
    "- 4) compute the \"summary score\" of the SSM and chooses its maximum value as starting point of the audio summary\n",
    "- 5) write an audio file"
   ]
  },
  {
   "cell_type": "markdown",
   "metadata": {},
   "source": [
    "# Packages\n",
    "\n",
    "We first import the set of necessay packages"
   ]
  },
  {
   "cell_type": "code",
   "execution_count": 1,
   "metadata": {},
   "outputs": [],
   "source": [
    "import numpy as np\n",
    "import scipy.io.wavfile\n",
    "from scipy.signal import convolve2d\n",
    "import matplotlib.pyplot as plt\n",
    "import sys\n",
    "from tqdm import tqdm\n",
    "import tpt_tools\n",
    "%matplotlib inline"
   ]
  },
  {
   "cell_type": "markdown",
   "metadata": {},
   "source": [
    "# 1) Read an audio file"
   ]
  },
  {
   "cell_type": "code",
   "execution_count": 2,
   "metadata": {},
   "outputs": [
    {
     "name": "stdout",
     "output_type": "stream",
     "text": [
      "44100\n"
     ]
    }
   ],
   "source": [
    "audioFile = './audio_gammepno.wav'\n",
    "#audioFile = './audio_joe.wav'\n",
    "\n",
    "sr_hz, data_v = scipy.io.wavfile.read(audioFile)\n",
    "print(sr_hz)"
   ]
  },
  {
   "cell_type": "markdown",
   "metadata": {},
   "source": [
    "### Define the parameters of system and convert them according to the sampling rate of the audio track"
   ]
  },
  {
   "cell_type": "code",
   "execution_count": 3,
   "metadata": {},
   "outputs": [],
   "source": [
    "# --- STFT window duration\n",
    "L_sec = 0.2\n",
    "# --- STFT hop-size\n",
    "STEP_sec = 0.2/3\n",
    "# --- define the duration of the summary\n",
    "duration_sec = 20"
   ]
  },
  {
   "cell_type": "markdown",
   "metadata": {},
   "source": [
    "# 2) Compute Chromagram from audio signal"
   ]
  },
  {
   "cell_type": "markdown",
   "metadata": {},
   "source": [
    "## 2a) Compute Short Time Fourier Transform\n",
    "\n",
    "We first perform the short term analysis using DFT  (a.k.a. Short Time Fourier Transform) using a blackman analysis window of duration 0.2s and hop size 0.2/3s.\n",
    "\n",
    "The conversion from seconds to samples is\n",
    "- L_n=round(0.2 * sr_hz) et\n",
    "- STEP_n=round(0.2/3 * sr_hz)\n",
    "- in which sr_hz is the sampling rate (which depends on the audio file).\n",
    "\n",
    "The FFT size $N$ should be larger or equal to the window duration L_n. \n",
    "It should be power of 2 in order to be able to use the Fast Fourier Transform algorithm (FFT). \n",
    "We will use a zero-padding factor of 4 for $N$ which means we will take 4 times the value of $N$ which is the first power 2 larger than L_n.\n",
    "This zero-padding will help us creating the chroma filters for the lowest frequencies."
   ]
  },
  {
   "cell_type": "code",
   "execution_count": 4,
   "metadata": {},
   "outputs": [],
   "source": [
    "# --- Convert values from seconds (_sec) to samples (_n)\n",
    "L_n = int(np.round(L_sec * sr_hz))\n",
    "STEP_n = int(np.round(STEP_sec*sr_hz))\n",
    "# --- Compute the DFT size using zero-padding\n",
    "N = 4*tpt_tools.nextpow2(L_n)\n"
   ]
  },
  {
   "cell_type": "markdown",
   "metadata": {},
   "source": [
    "At each frame, we \n",
    "- window the signal\n",
    "- compute its DFT\n",
    "- store the results in a matrix"
   ]
  },
  {
   "cell_type": "code",
   "execution_count": 104,
   "metadata": {},
   "outputs": [],
   "source": [
    "def F_getSTFT(data_v, sr_hz, L_n, STEP_n):\n",
    "    \"\"\"\n",
    "    inputs:\n",
    "        - data_v: audio signal\n",
    "        - sr_hz: sampling rate\n",
    "        - L_n: window duration\n",
    "        - STEP_n: hope size\n",
    "    outputs:\n",
    "        - amFft_m (N/2+1, nbFrame)\n",
    "        - freqTF_hz_v (N/2+1, )\n",
    "        - T_sec_v (nbFrame, )\n",
    "    \"\"\"\n",
    "    ### START CODE HERE ###\n",
    "    \n",
    "    nbFrame = len(data_v)//STEP_n\n",
    "\n",
    "    while nbFrame*STEP_n + L_n > len(data_v):\n",
    "        nbFrame -= 1\n",
    "    \n",
    "    N = 4*tpt_tools.nextpow2(L_n)\n",
    "    \n",
    "    amFft_m = np.zeros(((N//2)+1, nbFrame))\n",
    "    \n",
    "    T_sec_v = np.zeros(nbFrame)\n",
    "     \n",
    "    for step in tqdm(range(nbFrame)):\n",
    "        \n",
    "        T_sec_v[step] = step*STEP_n/sr_hz\n",
    "        \n",
    "        window = data_v[step*STEP_n:step*STEP_n+L_n]*np.blackman(L_n)\n",
    "        \n",
    "        sp = np.fft.fft(window, n = N)\n",
    "        sp = sp[(N//2)-1:]\n",
    "        sp = [np.sqrt(sp.real[i]**2+sp.imag[i]**2) for i in range(len(sp))]\n",
    "    \n",
    "        amFft_m[:,step] = sp   \n",
    "        \n",
    "    \n",
    "    print(amFft_m)\n",
    "    freqTF_hz_v = abs(np.fft.fftfreq(N)[0:N//2+1]*sr_hz)\n",
    "    \n",
    "    #amFft_m = amFft_m.transpose()\n",
    "    ### END CODE HERE ###\n",
    "    \n",
    "    return amFft_m, freqTF_hz_v, T_sec_v\n"
   ]
  },
  {
   "cell_type": "markdown",
   "metadata": {},
   "source": [
    "### Test the function\n",
    "\n",
    "When ```audioFile = './audio_gammepno.wav'```\n",
    "you should obtain the following figure\n",
    "<img src=\"./_images/TPstruct_01.png\" width=400/>"
   ]
  },
  {
   "cell_type": "code",
   "execution_count": 105,
   "metadata": {
    "scrolled": false
   },
   "outputs": [
    {
     "name": "stderr",
     "output_type": "stream",
     "text": [
      "100%|██████████| 192/192 [00:37<00:00,  5.09it/s]\n"
     ]
    },
    {
     "name": "stdout",
     "output_type": "stream",
     "text": [
      "65536\n",
      "(32769, 192)\n",
      "(32769,)\n",
      "(192,)\n",
      "[0.00000000e+00 6.72912598e-01 1.34582520e+00 ... 2.20486542e+04\n",
      " 2.20493271e+04 2.20500000e+04]\n"
     ]
    }
   ],
   "source": [
    "amFft_m, freqTF_hz_v, T_sec_v = F_getSTFT(data_v, sr_hz, L_n, STEP_n)\n",
    "\n",
    "print(N)\n",
    "print(amFft_m.shape)\n",
    "print(freqTF_hz_v.shape)\n",
    "print(T_sec_v.shape)\n",
    "print(freqTF_hz_v)"
   ]
  },
  {
   "cell_type": "markdown",
   "metadata": {},
   "source": [
    "When ```audioFile = './_audio/audio_gammepno.wav'```, you should obtain the following values\n",
    "\n",
    "```(65536)\n",
    "(32769, 192)\n",
    "(32769,)\n",
    "(192,)```"
   ]
  },
  {
   "cell_type": "code",
   "execution_count": 107,
   "metadata": {},
   "outputs": [
    {
     "data": {
      "image/png": "[encoded data removed]",
      "text/plain": [
       "<matplotlib.figure.Figure at 0x11db1d978>"
      ]
     },
     "metadata": {},
     "output_type": "display_data"
    }
   ],
   "source": [
    "plt.figure(figsize=(10, 6))\n",
    "tpt_tools.F_plot2(np.sqrt(amFft_m), freqTF_hz_v, T_sec_v, 'Frequency [Hz]', 'Time [sec]')\n",
    "plt.ylim((0,2000));"
   ]
  },
  {
   "cell_type": "markdown",
   "metadata": {},
   "source": [
    "## 2b) Create the matrix containing the filters"
   ]
  },
  {
   "cell_type": "markdown",
   "metadata": {},
   "source": [
    "There is 12 Chromas (or Pitch Class Profile). We denote them by ```c```.\n",
    "\n",
    "For each chroma ```c```, we will create a specific filter that perform the mapping between the values of the DFT and this specific chroma.\n",
    "\n",
    "We denote by ```n```, the semi-tone-pitches (or midi notes). For example ```n=69``` is A-4 or 440Hz.\n",
    "The chroma ```c``` corresponding to a given semi-note ```n``` is given by ```c = mod(n, 12)```.\n",
    "The chroma ```c``` should therefore represents the energy existing in the DFT at all semi-pitches ```n``` such that ```c = mod(n, 12)```.\n",
    "\n",
    "For each of these ```n```, we will create a band-pass filter centered on $n$ and extending on the left to ```n-1``` and the right to ```n+1```.\n",
    "\n",
    "Each band-pass filter is normalized such that it sums to 1.\n",
    "\n",
    "To create the filters we can use the following formula which maps the DFT frequency ```freqTF_hz_v```to the corresponding midi notes ```freqTF_midi_v```\n",
    ": ```freqTF_midi_v = 12 * log2(freqTF_hz_v / 440)+69```.\n",
    "\n",
    "The shape of the filter will be defined by the following formula:\n",
    "$H = \\frac{1}{2} \\tanh(\\pi (1-2x))+\\frac{1}{2}$ in which $x$ represents the absolute value of the distance between ```n``` and ```freqTF_midi_v```: ```x = abs(n - freqTF_midi_v)```.\n",
    "\n",
    "We will only consider the MIDI notes ```n=36```, ```n=37``` to ```n=119```.\n",
    "\n",
    "The 12 chroma filters are stored in a matrix ```(12, N/2+1)```, i.e. one filter per row."
   ]
  },
  {
   "cell_type": "code",
   "execution_count": 101,
   "metadata": {},
   "outputs": [],
   "source": [
    "def F_getChromaFiltre(freqTF_hz_v, startMidi=36, endMidi=119):\n",
    "    \"\"\"\n",
    "    inputs:\n",
    "        - freqTF_hz_v (N/2+1): frequency axis of the DFT in Hz\n",
    "        - startMidi: starting midi note (int)\n",
    "        - endMidi: ending midi note (int)\n",
    "    outputs:\n",
    "        - chromaFiltre_m (12, N/2+1)\n",
    "        - midi_v (nbMidi)\n",
    "    \"\"\"\n",
    "    \n",
    "    ### START CODE HERE ###\n",
    "    \n",
    "        \n",
    "    freqTF_midi_v = 12 * np.log2(abs(freqTF_hz_v) / 440)+69\n",
    "\n",
    "    chromaFiltre_m = np.zeros((12, len(freqTF_hz_v)))\n",
    "    \n",
    "    for n in tqdm(range(startMidi, startMidi+12)):\n",
    "        for i in range((endMidi- n)//12):\n",
    "            x = abs(n+(i*12)-freqTF_midi_v)\n",
    "            H = 0.5*np.tanh(np.pi*(1-2*x)) + 0.5\n",
    "            chromaFiltre_m[n-startMidi] += H/np.sum(H)  \n",
    "            \n",
    "            \n",
    "    midi_v = []\n",
    "    \n",
    "    for i in range(startMidi, endMidi):\n",
    "        midi_v.append(i)\n",
    "    midi_v = np.asarray(midi_v)\n",
    "    \n",
    "    plt.plot(chromaFiltre_m[0])\n",
    "    plt.show()\n",
    "        \n",
    "    \n",
    "    ### END CODE HERE ###\n",
    "    \n",
    "    return chromaFiltre_m, midi_v"
   ]
  },
  {
   "cell_type": "markdown",
   "metadata": {},
   "source": [
    "### Test the function\n",
    "\n",
    "You should obtain the following figure\n",
    "<img src=\"./_images/TPstruct_02.png\" width=400/>"
   ]
  },
  {
   "cell_type": "code",
   "execution_count": 102,
   "metadata": {},
   "outputs": [
    {
     "name": "stderr",
     "output_type": "stream",
     "text": [
      "/usr/local/lib/python3.6/site-packages/ipykernel_launcher.py:15: RuntimeWarning: divide by zero encountered in log2\n",
      "  from ipykernel import kernelapp as app\n",
      "100%|██████████| 12/12 [00:00<00:00, 239.62it/s]\n"
     ]
    },
    {
     "data": {
      "image/png": "[encoded data removed]",
      "text/plain": [
       "<matplotlib.figure.Figure at 0x118f13208>"
      ]
     },
     "metadata": {},
     "output_type": "display_data"
    },
    {
     "name": "stdout",
     "output_type": "stream",
     "text": [
      "(12, 32769)\n",
      "(83,)\n"
     ]
    }
   ],
   "source": [
    "chromaFiltre_m, midi_v = F_getChromaFiltre(freqTF_hz_v)\n",
    "\n",
    "print(chromaFiltre_m.shape)\n",
    "print(midi_v.shape)"
   ]
  },
  {
   "cell_type": "markdown",
   "metadata": {},
   "source": [
    " You should obtain the following values\n",
    " \n",
    " ```(12, 32769)\n",
    "(84,)```"
   ]
  },
  {
   "cell_type": "code",
   "execution_count": 103,
   "metadata": {
    "scrolled": true
   },
   "outputs": [
    {
     "data": {
      "image/png": "[encoded data removed]",
      "text/plain": [
       "<matplotlib.figure.Figure at 0x111a75898>"
      ]
     },
     "metadata": {},
     "output_type": "display_data"
    }
   ],
   "source": [
    "plt.figure(figsize=(10, 4))\n",
    "tpt_tools.F_plot1(freqTF_hz_v, chromaFiltre_m[9,:], 'Frequency [Hz]', 'Value')\n",
    "plt.xlim((0,2000));"
   ]
  },
  {
   "cell_type": "markdown",
   "metadata": {},
   "source": [
    "### Display all the filters as a matrix\n",
    "\n",
    "You should obtain the following figure\n",
    "<img src=\"./_images/TPstruct_03.png\" width=400/>"
   ]
  },
  {
   "cell_type": "code",
   "execution_count": 12,
   "metadata": {},
   "outputs": [
    {
     "ename": "NameError",
     "evalue": "name 'chromaFiltre_m' is not defined",
     "output_type": "error",
     "traceback": [
      "\u001b[0;31m---------------------------------------------------------------------------\u001b[0m",
      "\u001b[0;31mNameError\u001b[0m                                 Traceback (most recent call last)",
      "\u001b[0;32m<ipython-input-12-f6a0eccca26f>\u001b[0m in \u001b[0;36m<module>\u001b[0;34m()\u001b[0m\n\u001b[1;32m      1\u001b[0m \u001b[0mplt\u001b[0m\u001b[0;34m.\u001b[0m\u001b[0mfigure\u001b[0m\u001b[0;34m(\u001b[0m\u001b[0mfigsize\u001b[0m\u001b[0;34m=\u001b[0m\u001b[0;34m(\u001b[0m\u001b[0;36m10\u001b[0m\u001b[0;34m,\u001b[0m \u001b[0;36m6\u001b[0m\u001b[0;34m)\u001b[0m\u001b[0;34m)\u001b[0m\u001b[0;34m\u001b[0m\u001b[0m\n\u001b[0;32m----> 2\u001b[0;31m \u001b[0mtpt_tools\u001b[0m\u001b[0;34m.\u001b[0m\u001b[0mF_plot2\u001b[0m\u001b[0;34m(\u001b[0m\u001b[0mchromaFiltre_m\u001b[0m\u001b[0;34m,\u001b[0m \u001b[0mnp\u001b[0m\u001b[0;34m.\u001b[0m\u001b[0marange\u001b[0m\u001b[0;34m(\u001b[0m\u001b[0;36m0\u001b[0m\u001b[0;34m,\u001b[0m \u001b[0;36m12\u001b[0m\u001b[0;34m)\u001b[0m\u001b[0;34m,\u001b[0m \u001b[0mfreqTF_hz_v\u001b[0m\u001b[0;34m,\u001b[0m \u001b[0;34m'Chroma'\u001b[0m\u001b[0;34m,\u001b[0m \u001b[0;34m'Frequency [Hz]'\u001b[0m\u001b[0;34m)\u001b[0m\u001b[0;34m\u001b[0m\u001b[0m\n\u001b[0m\u001b[1;32m      3\u001b[0m \u001b[0mplt\u001b[0m\u001b[0;34m.\u001b[0m\u001b[0mxlim\u001b[0m\u001b[0;34m(\u001b[0m\u001b[0;34m(\u001b[0m\u001b[0;36m0\u001b[0m\u001b[0;34m,\u001b[0m\u001b[0;36m1000\u001b[0m\u001b[0;34m)\u001b[0m\u001b[0;34m)\u001b[0m\u001b[0;34m;\u001b[0m\u001b[0;34m\u001b[0m\u001b[0m\n",
      "\u001b[0;31mNameError\u001b[0m: name 'chromaFiltre_m' is not defined"
     ]
    },
    {
     "data": {
      "text/plain": [
       "<Figure size 720x432 with 0 Axes>"
      ]
     },
     "metadata": {},
     "output_type": "display_data"
    }
   ],
   "source": [
    "plt.figure(figsize=(10, 6))\n",
    "tpt_tools.F_plot2(chromaFiltre_m, np.arange(0, 12), freqTF_hz_v, 'Chroma', 'Frequency [Hz]')\n",
    "plt.xlim((0,1000));"
   ]
  },
  {
   "cell_type": "markdown",
   "metadata": {},
   "source": [
    "## 2c) Compute the Chromagram\n",
    "\n",
    "To obtain the Chromagram, we simply multiply (matrix multiplication) the Chroma matrix with the STFT matrix:\n",
    "(12, N/2+1) * (N/2+1, nbFrame) = (12, nbFrame). \n",
    "\n",
    "The output of this is a matrix in which the rows represent the 12 values of the chroma and the column the successive time frames.\n",
    "\n"
   ]
  },
  {
   "cell_type": "markdown",
   "metadata": {},
   "source": [
    "### Test the function"
   ]
  },
  {
   "cell_type": "code",
   "execution_count": 13,
   "metadata": {},
   "outputs": [
    {
     "ename": "NameError",
     "evalue": "name 'chromaFiltre_m' is not defined",
     "output_type": "error",
     "traceback": [
      "\u001b[0;31m---------------------------------------------------------------------------\u001b[0m",
      "\u001b[0;31mNameError\u001b[0m                                 Traceback (most recent call last)",
      "\u001b[0;32m<ipython-input-13-396c87814899>\u001b[0m in \u001b[0;36m<module>\u001b[0;34m()\u001b[0m\n\u001b[0;32m----> 1\u001b[0;31m \u001b[0mchromaGram_m\u001b[0m \u001b[0;34m=\u001b[0m \u001b[0mnp\u001b[0m\u001b[0;34m.\u001b[0m\u001b[0mdot\u001b[0m\u001b[0;34m(\u001b[0m\u001b[0mchromaFiltre_m\u001b[0m\u001b[0;34m,\u001b[0m \u001b[0mamFft_m\u001b[0m\u001b[0;34m)\u001b[0m\u001b[0;34m\u001b[0m\u001b[0m\n\u001b[0m\u001b[1;32m      2\u001b[0m \u001b[0;34m\u001b[0m\u001b[0m\n\u001b[1;32m      3\u001b[0m \u001b[0mprint\u001b[0m\u001b[0;34m(\u001b[0m\u001b[0mchromaFiltre_m\u001b[0m\u001b[0;34m.\u001b[0m\u001b[0mshape\u001b[0m\u001b[0;34m)\u001b[0m\u001b[0;34m\u001b[0m\u001b[0m\n\u001b[1;32m      4\u001b[0m \u001b[0mprint\u001b[0m\u001b[0;34m(\u001b[0m\u001b[0mamFft_m\u001b[0m\u001b[0;34m.\u001b[0m\u001b[0mshape\u001b[0m\u001b[0;34m)\u001b[0m\u001b[0;34m\u001b[0m\u001b[0m\n\u001b[1;32m      5\u001b[0m \u001b[0mprint\u001b[0m\u001b[0;34m(\u001b[0m\u001b[0mchromaGram_m\u001b[0m\u001b[0;34m.\u001b[0m\u001b[0mshape\u001b[0m\u001b[0;34m)\u001b[0m\u001b[0;34m\u001b[0m\u001b[0m\n",
      "\u001b[0;31mNameError\u001b[0m: name 'chromaFiltre_m' is not defined"
     ]
    }
   ],
   "source": [
    "chromaGram_m = np.dot(chromaFiltre_m, amFft_m)\n",
    "\n",
    "print(chromaFiltre_m.shape)\n",
    "print(amFft_m.shape)\n",
    "print(chromaGram_m.shape)"
   ]
  },
  {
   "cell_type": "markdown",
   "metadata": {},
   "source": [
    "When ```audioFile = './audio_gammepno.wav'```, you should obtain the following values\n",
    "\n",
    "```(12, 32769)\n",
    "(32769, 192)\n",
    "(12, 192)```"
   ]
  },
  {
   "cell_type": "markdown",
   "metadata": {},
   "source": [
    "### Display the chromagram\n",
    "\n",
    "When ```audioFile = './_audio/audio_gammepno.wav````, you should obtain the following figure\n",
    "<img src=\"./_images/TPstruct_04.png\" width=400/>"
   ]
  },
  {
   "cell_type": "code",
   "execution_count": 14,
   "metadata": {},
   "outputs": [
    {
     "ename": "NameError",
     "evalue": "name 'chromaGram_m' is not defined",
     "output_type": "error",
     "traceback": [
      "\u001b[0;31m---------------------------------------------------------------------------\u001b[0m",
      "\u001b[0;31mNameError\u001b[0m                                 Traceback (most recent call last)",
      "\u001b[0;32m<ipython-input-14-479f2ad28314>\u001b[0m in \u001b[0;36m<module>\u001b[0;34m()\u001b[0m\n\u001b[1;32m      1\u001b[0m \u001b[0mplt\u001b[0m\u001b[0;34m.\u001b[0m\u001b[0mfigure\u001b[0m\u001b[0;34m(\u001b[0m\u001b[0mfigsize\u001b[0m\u001b[0;34m=\u001b[0m\u001b[0;34m(\u001b[0m\u001b[0;36m10\u001b[0m\u001b[0;34m,\u001b[0m \u001b[0;36m6\u001b[0m\u001b[0;34m)\u001b[0m\u001b[0;34m)\u001b[0m\u001b[0;34m\u001b[0m\u001b[0m\n\u001b[0;32m----> 2\u001b[0;31m \u001b[0mtpt_tools\u001b[0m\u001b[0;34m.\u001b[0m\u001b[0mF_plot2\u001b[0m\u001b[0;34m(\u001b[0m\u001b[0mchromaGram_m\u001b[0m\u001b[0;34m,\u001b[0m \u001b[0mnp\u001b[0m\u001b[0;34m.\u001b[0m\u001b[0marange\u001b[0m\u001b[0;34m(\u001b[0m\u001b[0;36m0\u001b[0m\u001b[0;34m,\u001b[0m \u001b[0;36m12\u001b[0m\u001b[0;34m)\u001b[0m\u001b[0;34m,\u001b[0m \u001b[0mfreqTF_hz_v\u001b[0m\u001b[0;34m,\u001b[0m \u001b[0;34m'Chroma'\u001b[0m\u001b[0;34m,\u001b[0m \u001b[0;34m'Time [sec]'\u001b[0m\u001b[0;34m)\u001b[0m\u001b[0;34m\u001b[0m\u001b[0m\n\u001b[0m",
      "\u001b[0;31mNameError\u001b[0m: name 'chromaGram_m' is not defined"
     ]
    },
    {
     "data": {
      "text/plain": [
       "<Figure size 720x432 with 0 Axes>"
      ]
     },
     "metadata": {},
     "output_type": "display_data"
    }
   ],
   "source": [
    "plt.figure(figsize=(10, 6))\n",
    "tpt_tools.F_plot2(chromaGram_m, np.arange(0, 12), freqTF_hz_v, 'Chroma', 'Time [sec]')"
   ]
  },
  {
   "cell_type": "markdown",
   "metadata": {},
   "source": [
    "# 3. Compute the Self-Similarity-Matrix (time,time) using the Chromagram\n",
    "\n",
    "We now compute the Self-Similarity-Matrix (SSM) using the Chromagram.\n",
    "An entry $(i,j)$ in the SSM represent the similarity between time $t_i$ and time $t_j$.\n",
    "\n",
    "For this, we will use the ```1 - (cosine distance)``` between the chroma vector at time $t_i$ and the one at $t_j$.\n",
    "\n",
    "\n",
    "The ```1 - ( cosine distance)```\n",
    " between $x$ and $x$ is defined as\n",
    "$dist(x,y)=\\frac{\\sum_k x(i) y(i)}{\\sqrt{\\sum_i x(i)^2} \\sqrt{\\sum_i x(i)^2}}$"
   ]
  },
  {
   "cell_type": "code",
   "execution_count": 15,
   "metadata": {},
   "outputs": [],
   "source": [
    "def F_getSsmTT(data_m):\n",
    "    \"\"\"\n",
    "    inputs:\n",
    "        - data_m (12, nbFrame)\n",
    "    outputs:\n",
    "        - ssmTT_m (nbFrame, nbFrame)\n",
    "    \"\"\"\n",
    "    \n",
    "    ### START CODE HERE ###\n",
    "    norm_v = np.sqrt(np.sum(data_m ** 2, axis=0) + sys.float_info.epsilon)\n",
    "    # norm_m (12, nbFrame)\n",
    "    norm_m = np.tile(norm_v, (12, 1))\n",
    "    data_m = np.divide(data_m, norm_m)\n",
    "\n",
    "    ssmTT_m = np.dot(data_m.T,  data_m)\n",
    "    ### END CODE HERE ###\n",
    "    \n",
    "    return ssmTT_m"
   ]
  },
  {
   "cell_type": "markdown",
   "metadata": {},
   "source": [
    "### Test the function\n",
    "\n",
    "When audioFile = './audio_gammepno.wav', you should obtain the following figure\n",
    "<img src=\"./_images/TPstruct_05.png\" width=400/>"
   ]
  },
  {
   "cell_type": "code",
   "execution_count": 16,
   "metadata": {},
   "outputs": [
    {
     "ename": "NameError",
     "evalue": "name 'chromaGram_m' is not defined",
     "output_type": "error",
     "traceback": [
      "\u001b[0;31m---------------------------------------------------------------------------\u001b[0m",
      "\u001b[0;31mNameError\u001b[0m                                 Traceback (most recent call last)",
      "\u001b[0;32m<ipython-input-16-970f2a1f48d0>\u001b[0m in \u001b[0;36m<module>\u001b[0;34m()\u001b[0m\n\u001b[0;32m----> 1\u001b[0;31m \u001b[0mssmTT_m\u001b[0m \u001b[0;34m=\u001b[0m \u001b[0mF_getSsmTT\u001b[0m\u001b[0;34m(\u001b[0m\u001b[0mchromaGram_m\u001b[0m\u001b[0;34m)\u001b[0m\u001b[0;34m\u001b[0m\u001b[0m\n\u001b[0m\u001b[1;32m      2\u001b[0m \u001b[0;31m# --- In order to emphasize the sequences (sub-diagonal) existing\u001b[0m\u001b[0;34m\u001b[0m\u001b[0;34m\u001b[0m\u001b[0m\n\u001b[1;32m      3\u001b[0m \u001b[0;34m\u001b[0m\u001b[0m\n\u001b[1;32m      4\u001b[0m \u001b[0;32mif\u001b[0m \u001b[0;32mFalse\u001b[0m\u001b[0;34m:\u001b[0m\u001b[0;34m\u001b[0m\u001b[0m\n\u001b[1;32m      5\u001b[0m     \u001b[0;31m# --- in the matrix we cancel the values below a threshold\u001b[0m\u001b[0;34m\u001b[0m\u001b[0;34m\u001b[0m\u001b[0m\n",
      "\u001b[0;31mNameError\u001b[0m: name 'chromaGram_m' is not defined"
     ]
    }
   ],
   "source": [
    "ssmTT_m = F_getSsmTT(chromaGram_m)\n",
    "# --- In order to emphasize the sequences (sub-diagonal) existing \n",
    "\n",
    "if False:\n",
    "    # --- in the matrix we cancel the values below a threshold\n",
    "    ssmTT_m[ssmTT_m<0.97]=0\n",
    "\n",
    "# --- Display the matrix\n",
    "plt.figure(figsize=(10, 6))\n",
    "tpt_tools.F_plot2(ssmTT_m, T_sec_v, T_sec_v, 'Time [sec]', 'Time [sec]')"
   ]
  },
  {
   "cell_type": "markdown",
   "metadata": {},
   "source": [
    "# 4) Compute the \"summary score\" of the SSM and chooses its maximum value as starting point of the audio summary\n",
    "\n",
    "Using the SSM, we look to the best starting point in the music track of a 20s segment such that this segment best represent (is the most similar to) the whole content of the track.\n",
    "\n",
    "For this, we compute the \"summary score\" proposed by [Cooper, Foote, 2002]:\n",
    "- For each time q (row q in the matrix), the summary score is computed as the sum over the column of the matrix for this row. It represents the similarity between time q and the rest of the track.\n",
    "- For a segment starting at q and of duration L, the summary score is compute as the sum over the column inside q and q+L. It represents the the similarity between the segment [q,q+L] and the rest of the track.\n",
    "- L is imposed as the length of the audio summary\n",
    "- We look for the best summary of 20s. We therefore look for the value of q which maximizes the score."
   ]
  },
  {
   "cell_type": "code",
   "execution_count": 17,
   "metadata": {},
   "outputs": [],
   "source": [
    "def F_getSummaryScore(ssm_m, duration_frame):\n",
    "    \"\"\"\n",
    "    inputs:\n",
    "        - ssm_m (nbFrame, nbFrame)\n",
    "        - duration_frame\n",
    "    outputs:\n",
    "        - startPos_frame\n",
    "        - score_v (nbFrame)\n",
    "    \"\"\"\n",
    "    \n",
    "    ### START CODE HERE ###\n",
    "\n",
    "    ### END CODE HERE ###\n",
    "    \n",
    "    return startPos_frame, score_v"
   ]
  },
  {
   "cell_type": "markdown",
   "metadata": {},
   "source": [
    "### Test the function"
   ]
  },
  {
   "cell_type": "code",
   "execution_count": 18,
   "metadata": {},
   "outputs": [
    {
     "name": "stdout",
     "output_type": "stream",
     "text": [
      "Duration sec:20 samples:882000 frames:300\n"
     ]
    },
    {
     "ename": "NameError",
     "evalue": "name 'ssmTT_m' is not defined",
     "output_type": "error",
     "traceback": [
      "\u001b[0;31m---------------------------------------------------------------------------\u001b[0m",
      "\u001b[0;31mNameError\u001b[0m                                 Traceback (most recent call last)",
      "\u001b[0;32m<ipython-input-18-f336a942bcbc>\u001b[0m in \u001b[0;36m<module>\u001b[0;34m()\u001b[0m\n\u001b[1;32m      2\u001b[0m \u001b[0mduration_frame\u001b[0m\u001b[0;34m,\u001b[0m \u001b[0mduration_n\u001b[0m \u001b[0;34m=\u001b[0m \u001b[0mint\u001b[0m\u001b[0;34m(\u001b[0m\u001b[0mduration_sec\u001b[0m\u001b[0;34m/\u001b[0m\u001b[0mSTEP_sec\u001b[0m\u001b[0;34m)\u001b[0m\u001b[0;34m,\u001b[0m \u001b[0mint\u001b[0m\u001b[0;34m(\u001b[0m\u001b[0mduration_sec\u001b[0m\u001b[0;34m*\u001b[0m\u001b[0msr_hz\u001b[0m\u001b[0;34m)\u001b[0m\u001b[0;34m\u001b[0m\u001b[0m\n\u001b[1;32m      3\u001b[0m \u001b[0mprint\u001b[0m\u001b[0;34m(\u001b[0m\u001b[0;34m\"Duration sec:{} samples:{} frames:{}\"\u001b[0m\u001b[0;34m.\u001b[0m\u001b[0mformat\u001b[0m\u001b[0;34m(\u001b[0m\u001b[0mduration_sec\u001b[0m\u001b[0;34m,\u001b[0m \u001b[0mduration_n\u001b[0m\u001b[0;34m,\u001b[0m \u001b[0mduration_frame\u001b[0m\u001b[0;34m)\u001b[0m\u001b[0;34m)\u001b[0m\u001b[0;34m\u001b[0m\u001b[0m\n\u001b[0;32m----> 4\u001b[0;31m \u001b[0mstartPos_frame\u001b[0m\u001b[0;34m,\u001b[0m \u001b[0mscore_v\u001b[0m \u001b[0;34m=\u001b[0m \u001b[0mF_getSummaryScore\u001b[0m\u001b[0;34m(\u001b[0m\u001b[0mssmTT_m\u001b[0m\u001b[0;34m,\u001b[0m \u001b[0mduration_frame\u001b[0m\u001b[0;34m)\u001b[0m\u001b[0;34m\u001b[0m\u001b[0m\n\u001b[0m\u001b[1;32m      5\u001b[0m \u001b[0mstartPos_sec\u001b[0m\u001b[0;34m,\u001b[0m \u001b[0mstartPos_n\u001b[0m \u001b[0;34m=\u001b[0m \u001b[0mstartPos_frame\u001b[0m\u001b[0;34m*\u001b[0m\u001b[0mSTEP_sec\u001b[0m\u001b[0;34m,\u001b[0m \u001b[0mint\u001b[0m\u001b[0;34m(\u001b[0m\u001b[0mstartPos_frame\u001b[0m\u001b[0;34m*\u001b[0m\u001b[0mSTEP_sec\u001b[0m\u001b[0;34m*\u001b[0m\u001b[0msr_hz\u001b[0m\u001b[0;34m)\u001b[0m\u001b[0;34m\u001b[0m\u001b[0m\n",
      "\u001b[0;31mNameError\u001b[0m: name 'ssmTT_m' is not defined"
     ]
    }
   ],
   "source": [
    "# --- convert it to number of frames\n",
    "duration_frame, duration_n = int(duration_sec/STEP_sec), int(duration_sec*sr_hz)\n",
    "print(\"Duration sec:{} samples:{} frames:{}\".format(duration_sec, duration_n, duration_frame))\n",
    "startPos_frame, score_v = F_getSummaryScore(ssmTT_m, duration_frame)\n",
    "startPos_sec, startPos_n = startPos_frame*STEP_sec, int(startPos_frame*STEP_sec*sr_hz)"
   ]
  },
  {
   "cell_type": "markdown",
   "metadata": {},
   "source": [
    "### Display the resuting score function and estimated starting point of the audio summary"
   ]
  },
  {
   "cell_type": "code",
   "execution_count": 19,
   "metadata": {},
   "outputs": [
    {
     "ename": "NameError",
     "evalue": "name 'score_v' is not defined",
     "output_type": "error",
     "traceback": [
      "\u001b[0;31m---------------------------------------------------------------------------\u001b[0m",
      "\u001b[0;31mNameError\u001b[0m                                 Traceback (most recent call last)",
      "\u001b[0;32m<ipython-input-19-122ddfc0c18e>\u001b[0m in \u001b[0;36m<module>\u001b[0;34m()\u001b[0m\n\u001b[1;32m      1\u001b[0m \u001b[0mplt\u001b[0m\u001b[0;34m.\u001b[0m\u001b[0mfigure\u001b[0m\u001b[0;34m(\u001b[0m\u001b[0mfigsize\u001b[0m\u001b[0;34m=\u001b[0m\u001b[0;34m(\u001b[0m\u001b[0;36m10\u001b[0m\u001b[0;34m,\u001b[0m \u001b[0;36m6\u001b[0m\u001b[0;34m)\u001b[0m\u001b[0;34m)\u001b[0m\u001b[0;34m\u001b[0m\u001b[0m\n\u001b[0;32m----> 2\u001b[0;31m \u001b[0mtpt_tools\u001b[0m\u001b[0;34m.\u001b[0m\u001b[0mF_plot1\u001b[0m\u001b[0;34m(\u001b[0m\u001b[0mnp\u001b[0m\u001b[0;34m.\u001b[0m\u001b[0marange\u001b[0m\u001b[0;34m(\u001b[0m\u001b[0;36m0\u001b[0m\u001b[0;34m,\u001b[0m \u001b[0mlen\u001b[0m\u001b[0;34m(\u001b[0m\u001b[0mscore_v\u001b[0m\u001b[0;34m)\u001b[0m\u001b[0;34m)\u001b[0m\u001b[0;34m,\u001b[0m \u001b[0mscore_v\u001b[0m\u001b[0;34m,\u001b[0m \u001b[0;34m'frame'\u001b[0m\u001b[0;34m,\u001b[0m \u001b[0;34m'score'\u001b[0m\u001b[0;34m)\u001b[0m\u001b[0;34m\u001b[0m\u001b[0m\n\u001b[0m\u001b[1;32m      3\u001b[0m \u001b[0mplt\u001b[0m\u001b[0;34m.\u001b[0m\u001b[0mplot\u001b[0m\u001b[0;34m(\u001b[0m\u001b[0mstartPos_frame\u001b[0m\u001b[0;34m,\u001b[0m \u001b[0mscore_v\u001b[0m\u001b[0;34m[\u001b[0m\u001b[0mstartPos_frame\u001b[0m\u001b[0;34m]\u001b[0m\u001b[0;34m,\u001b[0m \u001b[0;34m'ro'\u001b[0m\u001b[0;34m)\u001b[0m\u001b[0;34m\u001b[0m\u001b[0m\n\u001b[1;32m      4\u001b[0m \u001b[0mprint\u001b[0m\u001b[0;34m(\u001b[0m\u001b[0;34m\"Start sec:{}, samples:{} frames:{}\"\u001b[0m\u001b[0;34m.\u001b[0m\u001b[0mformat\u001b[0m\u001b[0;34m(\u001b[0m\u001b[0mstartPos_sec\u001b[0m\u001b[0;34m,\u001b[0m \u001b[0mstartPos_n\u001b[0m\u001b[0;34m,\u001b[0m \u001b[0mstartPos_frame\u001b[0m\u001b[0;34m)\u001b[0m\u001b[0;34m)\u001b[0m\u001b[0;34m\u001b[0m\u001b[0m\n",
      "\u001b[0;31mNameError\u001b[0m: name 'score_v' is not defined"
     ]
    },
    {
     "data": {
      "text/plain": [
       "<Figure size 720x432 with 0 Axes>"
      ]
     },
     "metadata": {},
     "output_type": "display_data"
    }
   ],
   "source": [
    "plt.figure(figsize=(10, 6))\n",
    "tpt_tools.F_plot1(np.arange(0, len(score_v)), score_v, 'frame', 'score')\n",
    "plt.plot(startPos_frame, score_v[startPos_frame], 'ro')\n",
    "print(\"Start sec:{}, samples:{} frames:{}\".format(startPos_sec, startPos_n, startPos_frame))"
   ]
  },
  {
   "cell_type": "code",
   "execution_count": 20,
   "metadata": {},
   "outputs": [
    {
     "ename": "NameError",
     "evalue": "name 'ssmTT_m' is not defined",
     "output_type": "error",
     "traceback": [
      "\u001b[0;31m---------------------------------------------------------------------------\u001b[0m",
      "\u001b[0;31mNameError\u001b[0m                                 Traceback (most recent call last)",
      "\u001b[0;32m<ipython-input-20-72c81eb580cb>\u001b[0m in \u001b[0;36m<module>\u001b[0;34m()\u001b[0m\n\u001b[1;32m      1\u001b[0m \u001b[0mplt\u001b[0m\u001b[0;34m.\u001b[0m\u001b[0mfigure\u001b[0m\u001b[0;34m(\u001b[0m\u001b[0mfigsize\u001b[0m\u001b[0;34m=\u001b[0m\u001b[0;34m(\u001b[0m\u001b[0;36m15\u001b[0m\u001b[0;34m,\u001b[0m \u001b[0;36m12\u001b[0m\u001b[0;34m)\u001b[0m\u001b[0;34m)\u001b[0m\u001b[0;34m\u001b[0m\u001b[0m\n\u001b[0;32m----> 2\u001b[0;31m \u001b[0mtpt_tools\u001b[0m\u001b[0;34m.\u001b[0m\u001b[0mF_plot2\u001b[0m\u001b[0;34m(\u001b[0m\u001b[0mssmTT_m\u001b[0m\u001b[0;34m,\u001b[0m \u001b[0mT_sec_v\u001b[0m\u001b[0;34m,\u001b[0m \u001b[0mT_sec_v\u001b[0m\u001b[0;34m,\u001b[0m \u001b[0;34m'Time [sec]'\u001b[0m\u001b[0;34m,\u001b[0m \u001b[0;34m'Time [sec]'\u001b[0m\u001b[0;34m)\u001b[0m\u001b[0;34m\u001b[0m\u001b[0m\n\u001b[0m\u001b[1;32m      3\u001b[0m \u001b[0mplt\u001b[0m\u001b[0;34m.\u001b[0m\u001b[0mplot\u001b[0m\u001b[0;34m(\u001b[0m\u001b[0mstartPos_sec\u001b[0m\u001b[0;34m,\u001b[0m \u001b[0mstartPos_sec\u001b[0m\u001b[0;34m,\u001b[0m \u001b[0;34m'ro'\u001b[0m\u001b[0;34m)\u001b[0m\u001b[0;34m\u001b[0m\u001b[0m\n\u001b[1;32m      4\u001b[0m \u001b[0mplt\u001b[0m\u001b[0;34m.\u001b[0m\u001b[0mplot\u001b[0m\u001b[0;34m(\u001b[0m\u001b[0mstartPos_sec\u001b[0m\u001b[0;34m+\u001b[0m\u001b[0mduration_sec\u001b[0m\u001b[0;34m,\u001b[0m \u001b[0mstartPos_sec\u001b[0m\u001b[0;34m+\u001b[0m\u001b[0mduration_sec\u001b[0m\u001b[0;34m,\u001b[0m \u001b[0;34m'ro'\u001b[0m\u001b[0;34m)\u001b[0m\u001b[0;34m\u001b[0m\u001b[0m\n",
      "\u001b[0;31mNameError\u001b[0m: name 'ssmTT_m' is not defined"
     ]
    },
    {
     "data": {
      "text/plain": [
       "<Figure size 1080x864 with 0 Axes>"
      ]
     },
     "metadata": {},
     "output_type": "display_data"
    }
   ],
   "source": [
    "plt.figure(figsize=(15, 12))\n",
    "tpt_tools.F_plot2(ssmTT_m, T_sec_v, T_sec_v, 'Time [sec]', 'Time [sec]')\n",
    "plt.plot(startPos_sec, startPos_sec, 'ro')\n",
    "plt.plot(startPos_sec+duration_sec, startPos_sec+duration_sec, 'ro')"
   ]
  },
  {
   "cell_type": "markdown",
   "metadata": {},
   "source": [
    "# 5) Generate the audio summary\n",
    "\n",
    "The audio summary is then simply the segment starting at ```startPos``` and of duration ```duration```."
   ]
  },
  {
   "cell_type": "code",
   "execution_count": 213,
   "metadata": {},
   "outputs": [],
   "source": [
    "scipy.io.wavfile.write(audioFile.replace('.wav', '-summary.wav'), sr_hz, data_v[startPos_n:startPos_n+duration_n])"
   ]
  },
  {
   "cell_type": "code",
   "execution_count": null,
   "metadata": {},
   "outputs": [],
   "source": []
  }
 ],
 "metadata": {
  "kernelspec": {
   "display_name": "Python 3",
   "language": "python",
   "name": "python3"
  },
  "language_info": {
   "codemirror_mode": {
    "name": "ipython",
    "version": 3
   },
   "file_extension": ".py",
   "mimetype": "text/x-python",
   "name": "python",
   "nbconvert_exporter": "python",
   "pygments_lexer": "ipython3",
   "version": "3.6.5"
  }
 },
 "nbformat": 4,
 "nbformat_minor": 2
}
